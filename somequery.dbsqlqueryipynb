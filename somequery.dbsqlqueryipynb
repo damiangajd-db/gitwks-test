{
 "cells": [
  {
   "cell_type": "code",
   "execution_count": 0,
   "metadata": {
    "application/vnd.databricks.v1+cell": {
     "cellMetadata": {},
     "inputWidgets": {},
     "nuid": "c7f3d5f0-9ee8-4018-b624-15d942f2af6d",
     "showTitle": false,
     "title": ""
    }
   },
   "outputs": [],
   "source": [
    "select 2"
   ]
  }
 ],
 "metadata": {
  "application/vnd.databricks.v1+notebook": {
   "dashboards": [],
   "language": "sql",
   "notebookMetadata": {
    "pythonIndentUnit": 4
   },
   "notebookName": "somequery.dbsqlqueryipynb",
   "widgets": {}
  }
 },
 "nbformat": 4,
 "nbformat_minor": 0
}
